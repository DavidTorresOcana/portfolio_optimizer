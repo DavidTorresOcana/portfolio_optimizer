{
 "cells": [
  {
   "cell_type": "code",
   "execution_count": 1,
   "metadata": {},
   "outputs": [],
   "source": [
    "import os\n",
    "import warnings\n",
    "import datetime\n",
    "import json\n",
    "\n",
    "import csv\n",
    "import matplotlib.pyplot as plt\n",
    "import numpy as np\n",
    "import pandas as pd\n",
    "from scipy import optimize\n",
    "from pandas_datareader import data\n",
    "import mplcursors\n"
   ]
  },
  {
   "cell_type": "code",
   "execution_count": 2,
   "metadata": {},
   "outputs": [],
   "source": [
    "# Data\n",
    "INPUT_SYMBOLS_FILEPATH = \"input_symbols.txt\"\n",
    "SOURCE_ADJCLOSE_MAP = {\"quandl\": \"AdjClose\",\n",
    "                       \"yahoo\": \"Adj Close\"}\n",
    "\n",
    "DATA_SOURCE = \"yahoo\"\n",
    "START_DATE = \"2019/01/01\"\n",
    "END_DATE = \"2019/12/31\"\n",
    "\n",
    "# Pipeline\n",
    "NUM_SIMULATION_POINTS = 200\n",
    "DATE_FORMAT = \"%Y/%m/%d\"\n",
    "YEAR_TRADING_DAYS = 253.\n",
    "PERCENTAGE_MULTPLIER = 100.\n",
    "\n",
    "# Optimizer flags:\n",
    "SHORTING_ALLOWED = False"
   ]
  },
  {
   "cell_type": "markdown",
   "metadata": {},
   "source": [
    "# 1. Get data using `pandas_datareader`\n",
    "See https://pandas-datareader.readthedocs.io/en/latest/remote_data.html#remote-data-quandl\n",
    "\n",
    " * [Quandl](https://pandas-datareader.readthedocs.io/en/latest/remote_data.html#quandl) `quandl`\n",
    "     * Daily financial data (prices of stocks, ETFs etc.) from Quandl. The symbol names consist of two parts: DB name and symbol name. DB names can be all the free ones listed on the Quandl website. Symbol names vary with DB name; for WIKI (US stocks), they are the common ticker symbols, in some other cases (such as FSE) they can be a bit strange. Some sources are also mapped to suitable ISO country codes in the dot suffix style shown above, currently available for [BE, CN, DE, FR, IN, JP, NL, PT, UK, US](https://www.quandl.com/search?query=).\n",
    "     * As of June 2017, each DB has a different data schema, the coverage in terms of time range is sometimes surprisingly small, and the data quality is not always good.\n",
    "     \n",
    " * [Yahoo](https://pandas-datareader.readthedocs.io/en/latest/remote_data.html#quandl) `yahoo`:\n",
    "     * Retrieve daily stock prices (high, open, close, volu,e and adjusted close). Symbols as in [Yahoo Lookup](https://finance.yahoo.com/lookup)"
   ]
  },
  {
   "cell_type": "code",
   "execution_count": 3,
   "metadata": {},
   "outputs": [
    {
     "name": "stderr",
     "output_type": "stream",
     "text": [
      "/home/davidtorres/.local/lib/python3.8/site-packages/pandas_datareader/base.py:272: SymbolWarning: Failed to read symbol: 'SOFI', replacing with NaN.\n",
      "  warnings.warn(msg.format(sym), SymbolWarning)\n"
     ]
    }
   ],
   "source": [
    "with open(INPUT_SYMBOLS_FILEPATH) as file:\n",
    "    symbols_names = [x.rstrip() for x in file.readlines()]\n",
    "\n",
    "raw_df = data.DataReader(symbols_names, DATA_SOURCE,\n",
    "                         start=START_DATE, end=END_DATE)\n",
    "\n",
    "# Compute returns\n",
    "for symbol in symbols_names:\n",
    "    raw_df[(\"Return\", symbol)] = raw_df[(SOURCE_ADJCLOSE_MAP[DATA_SOURCE], symbol)].pct_change()\n",
    "    raw_df[(\"logReturn\", symbol)] = raw_df[(\"Return\", symbol)].apply(lambda x: np.log(1 + x))"
   ]
  },
  {
   "cell_type": "markdown",
   "metadata": {},
   "source": [
    "## Get latest closing prices"
   ]
  },
  {
   "cell_type": "code",
   "execution_count": 4,
   "metadata": {},
   "outputs": [],
   "source": [
    "_start_date = datetime.datetime.now() - datetime.timedelta(days=5)\n",
    "_now_date = datetime.datetime.now()\n",
    "latest_raw_df = data.DataReader(symbols_names, DATA_SOURCE,\n",
    "                                start=_start_date.strftime(DATE_FORMAT),\n",
    "                                end=_now_date.strftime(DATE_FORMAT))\n",
    "latests_prices_ = latest_raw_df[SOURCE_ADJCLOSE_MAP[DATA_SOURCE]].to_numpy()\n",
    "\n",
    "latests_prices = np.empty(latests_prices_.shape[1])\n",
    "latests_prices[:] = np.nan\n",
    "for i in range(latests_prices_.shape[1]):\n",
    "    for x in latests_prices_[::-1, i]:\n",
    "        if not np.isnan(x):\n",
    "            latests_prices[i] = x"
   ]
  },
  {
   "cell_type": "markdown",
   "metadata": {},
   "source": [
    "# 2. Compute mean returns and Covariance matrix"
   ]
  },
  {
   "cell_type": "code",
   "execution_count": 5,
   "metadata": {},
   "outputs": [
    {
     "name": "stderr",
     "output_type": "stream",
     "text": [
      "<ipython-input-5-5fff15adaa9d>:2: RuntimeWarning: Mean of empty slice\n",
      "  mean_returns = np.nanmean(returns, axis=0)\n",
      "<ipython-input-5-5fff15adaa9d>:8: UserWarning: Symbols ['SOFI'] will not be considered as no data avialable\n",
      "  warnings.warn(f\"Symbols {leave_out_symbols} will not be considered as no data avialable\")\n"
     ]
    }
   ],
   "source": [
    "returns = raw_df[\"logReturn\"].to_numpy()\n",
    "mean_returns = np.nanmean(returns, axis=0)\n",
    "\n",
    "# NaN logic\n",
    "mask = np.isnan(mean_returns)\n",
    "leave_out_symbols = np.array(symbols_names)[mask].tolist()\n",
    "if leave_out_symbols:\n",
    "    warnings.warn(f\"Symbols {leave_out_symbols} will not be considered as no data avialable\")\n",
    "    for x in leave_out_symbols:\n",
    "        symbols_names.remove(x)\n",
    "\n",
    "returns = returns[:, ~mask]\n",
    "mean_returns = mean_returns[~mask]\n",
    "latests_prices = latests_prices[~mask]\n",
    "\n",
    "covariance_matrix = np.ma.cov(np.ma.masked_invalid(returns),\n",
    "                              rowvar=False).filled(np.nan)\n",
    "correlation_matrix = np.ma.corrcoef(np.ma.masked_invalid(returns),\n",
    "                                    rowvar=False).filled(np.nan)"
   ]
  },
  {
   "cell_type": "markdown",
   "metadata": {},
   "source": [
    "# 3. Portfolio and optimization"
   ]
  },
  {
   "cell_type": "code",
   "execution_count": 6,
   "metadata": {},
   "outputs": [],
   "source": [
    "weights_0 = np.ones(mean_returns.shape[0]) / mean_returns.shape[0]\n",
    "ones_vec = np.ones_like(weights_0)\n",
    "\n",
    "def compute_portfolio_return(weights, mean_returns):\n",
    "    return weights.dot(mean_returns)\n",
    "\n",
    "def compute_portfolio_variance(weights, covariance_matrix):\n",
    "    return weights.dot(covariance_matrix).dot(weights)"
   ]
  },
  {
   "cell_type": "markdown",
   "metadata": {},
   "source": [
    "## Optmization"
   ]
  },
  {
   "cell_type": "markdown",
   "metadata": {},
   "source": [
    "We aim to:\n",
    "$$\n",
    "w_{eff} = argmin (w^{T} \\Sigma w)\n",
    "$$\n",
    "given\n",
    "\n",
    "$ w^{T} \\mu = \\mu^{*}$ and $\\sum{w} = 1$\n",
    "\n",
    "and optionally:\n",
    " * No shorting possible: $w > 0$\n",
    " \n",
    "For Portfolio budget allocation:\n",
    " * "
   ]
  },
  {
   "cell_type": "code",
   "execution_count": null,
   "metadata": {},
   "outputs": [],
   "source": [
    "# Budget = 1000.\n",
    "# latests_prices = np.array([60, 12, 88])"
   ]
  },
  {
   "cell_type": "code",
   "execution_count": null,
   "metadata": {},
   "outputs": [],
   "source": [
    "# weights_ = np.random.rand(3)\n",
    "# weights_ /= weights_.sum()\n",
    "# weights_sort = weights_.argsort()\n",
    "# assets_units = weights_ * Budget // latests_prices\n",
    "# comitted_budget = (assets_units * latests_prices).sum()\n",
    "\n",
    "# while (Budget - comitted_budget) >= latests_prices.min():\n",
    "#     for i in weights_sort:\n",
    "#         if latests_prices[i] <= (Budget - comitted_budget):\n",
    "#             assets_units[i] += 1\n",
    "#             comitted_budget = (assets_units * latests_prices).sum()\n",
    "#             continue\n",
    "# comitted_budget"
   ]
  },
  {
   "cell_type": "code",
   "execution_count": null,
   "metadata": {},
   "outputs": [],
   "source": [
    "# assets_units * latests_prices / Budget, weights_"
   ]
  },
  {
   "cell_type": "code",
   "execution_count": null,
   "metadata": {},
   "outputs": [],
   "source": []
  },
  {
   "cell_type": "code",
   "execution_count": 24,
   "metadata": {},
   "outputs": [],
   "source": [
    "# constraints\n",
    "constrain_matrix = np.vstack((mean_returns, ones_vec))\n",
    "bounds = None if SHORTING_ALLOWED else optimize.Bounds(np.zeros_like(ones_vec).T,\n",
    "                                                       ones_vec.T * np.inf)\n",
    "\n",
    "frontier_returns = []\n",
    "frontier_volatilities = []\n",
    "frontier_sharpe_ratios = []\n",
    "weights_allocations = []\n",
    "objs_mus = np.linspace(max(mean_returns.min() * 0.5, -0.01),\n",
    "                       mean_returns.max(), 100)\n",
    "for objective_mu in objs_mus:\n",
    "    linear_constraints = optimize.LinearConstraint(constrain_matrix,\n",
    "                                                   [objective_mu, 1], [objective_mu, 1])\n",
    "    solution = optimize.minimize(compute_portfolio_variance, weights_0,\n",
    "                                 args=(covariance_matrix),\n",
    "                                 constraints=[linear_constraints],\n",
    "                                 bounds=bounds,\n",
    "                                 method=\"trust-constr\", jac=\"3-point\")\n",
    "    # Save solution\n",
    "    weights_allocations.append(solution.x)\n",
    "\n",
    "    portfolio_return = compute_portfolio_return(solution.x, mean_returns) * YEAR_TRADING_DAYS\n",
    "    portfolio_return_true = np.exp(portfolio_return) - 1\n",
    "    frontier_returns.append(portfolio_return_true)\n",
    "\n",
    "    portfolio_variance = compute_portfolio_variance(solution.x, covariance_matrix)\n",
    "    portfolio_volatility = np.sqrt(portfolio_variance * YEAR_TRADING_DAYS)\n",
    "    frontier_volatilities.append(portfolio_volatility)\n",
    "\n",
    "    frontier_sharpe_ratios.append((portfolio_return / portfolio_volatility))\n",
    "\n",
    "weights_allocations = np.array(weights_allocations)\n",
    "frontier_returns = np.array(frontier_returns)\n",
    "frontier_volatilities = np.array(frontier_volatilities)\n",
    "frontier_sharpe_ratios = np.array(frontier_sharpe_ratios)\n",
    "\n",
    "# Select solutions:\n",
    "best_sharperatio_idx = frontier_sharpe_ratios.argmax()\n",
    "best_volatility_idx = frontier_volatilities.argmin()\n",
    "best_returns_idx = frontier_returns.argmax()"
   ]
  },
  {
   "cell_type": "markdown",
   "metadata": {},
   "source": [
    "## Simulation"
   ]
  },
  {
   "cell_type": "code",
   "execution_count": 25,
   "metadata": {},
   "outputs": [],
   "source": [
    "simulation_points = []\n",
    "for i in range(weights_allocations.shape[0]):\n",
    "    for _ in range(NUM_SIMULATION_POINTS):\n",
    "        weights_ = weights_allocations[i, :] + (np.random.rand(mean_returns.shape[0])) * 0.2\n",
    "        weights_ /= weights_.sum()\n",
    "        portfolio_return = compute_portfolio_return(weights_, mean_returns) * YEAR_TRADING_DAYS\n",
    "        portfolio_return_true = np.exp(portfolio_return) - 1\n",
    "\n",
    "        portfolio_variance = compute_portfolio_variance(weights_, covariance_matrix)\n",
    "        portfolio_volatility = np.sqrt(portfolio_variance * YEAR_TRADING_DAYS)\n",
    "\n",
    "        simulation_points += [[portfolio_volatility, portfolio_return_true,\n",
    "                               portfolio_return / portfolio_volatility]]\n",
    "\n",
    "simulation_points = np.array(simulation_points)"
   ]
  },
  {
   "cell_type": "markdown",
   "metadata": {},
   "source": [
    "## Plot"
   ]
  },
  {
   "cell_type": "code",
   "execution_count": 26,
   "metadata": {},
   "outputs": [
    {
     "data": {
      "image/png": "[encoded data removed]",
      "text/plain": [
       "<Figure size 720x720 with 1 Axes>"
      ]
     },
     "metadata": {
      "needs_background": "light"
     },
     "output_type": "display_data"
    }
   ],
   "source": [
    "fig = plt.figure(figsize=(10, 10))\n",
    "ax = plt.gca()\n",
    "plt.scatter(simulation_points[:, 0],\n",
    "            simulation_points[:, 1] * PERCENTAGE_MULTPLIER,\n",
    "            s=2, label=\"Random allocations\",\n",
    "            c=simulation_points[:, 2], cmap='jet')\n",
    "plt.plot(frontier_volatilities,\n",
    "         frontier_returns * PERCENTAGE_MULTPLIER,\n",
    "         label=\"Efficient frontier\", linewidth=3.0)\n",
    "\n",
    "plt.plot(frontier_volatilities[best_volatility_idx],\n",
    "         frontier_returns[best_volatility_idx] * PERCENTAGE_MULTPLIER, \"*\",\n",
    "         markersize=20, label=\"Best volatily allocation\")\n",
    "\n",
    "plt.plot(frontier_volatilities[best_returns_idx],\n",
    "         frontier_returns[best_returns_idx] * PERCENTAGE_MULTPLIER, \"*\",\n",
    "         markersize=20, label=\"Best return allocation\")\n",
    "plt.plot(frontier_volatilities[best_sharperatio_idx],\n",
    "         frontier_returns[best_sharperatio_idx] * PERCENTAGE_MULTPLIER, \"*\",\n",
    "         markersize=20, label=\"Best Sharpe ratio allocation\")\n",
    "\n",
    "plt.title(\"Portfolio allocations\")\n",
    "plt.xlabel(\"Annualized volatility (standard deviation of log-returns)\")\n",
    "plt.ylabel(\"Annualized returns (%)\")\n",
    "\n",
    "handles, labels = ax.get_legend_handles_labels()\n",
    "labels, handles = zip(*sorted(zip(labels, handles), key=lambda t: t[0]))\n",
    "plt.legend(handles, labels)\n",
    "\n",
    "# plot individual assets\n",
    "for i, name in enumerate(symbols_names):\n",
    "    asset_return = (np.exp(mean_returns[i] * YEAR_TRADING_DAYS) - 1) * PERCENTAGE_MULTPLIER\n",
    "    asset_std = np.sqrt(covariance_matrix[i, i] * YEAR_TRADING_DAYS)\n",
    "    plt.plot(asset_std, asset_return, \"o\", markersize=10)\n",
    "    plt.text(asset_std, asset_return, name)"
   ]
  },
  {
   "cell_type": "code",
   "execution_count": null,
   "metadata": {},
   "outputs": [],
   "source": []
  },
  {
   "cell_type": "code",
   "execution_count": 28,
   "metadata": {},
   "outputs": [
    {
     "data": {
      "text/plain": [
       "<matplotlib.colorbar.Colorbar at 0x7f0560f841f0>"
      ]
     },
     "execution_count": 28,
     "metadata": {},
     "output_type": "execute_result"
    },
    {
     "data": {
      "image/png": "[encoded data removed]",
      "text/plain": [
       "<Figure size 720x720 with 2 Axes>"
      ]
     },
     "metadata": {
      "needs_background": "light"
     },
     "output_type": "display_data"
    }
   ],
   "source": [
    "fig = plt.figure(figsize=(10, 10))\n",
    "ax = fig.gca()\n",
    "plot = ax.matshow(correlation_matrix, cmap=\"jet\")\n",
    "for (i, j), z in np.ndenumerate(correlation_matrix):\n",
    "    ax.text(j, i, '{:0.2f}'.format(z), ha='center', va='center')\n",
    "    \n",
    "plt.xticks(range(0, len(symbols_names)), symbols_names, rotation=45);\n",
    "plt.yticks(range(0, len(symbols_names)), symbols_names);\n",
    "ax.set_title(\"Correlations matrix\", fontsize=16)\n",
    "\n",
    "fig.colorbar(plot)"
   ]
  },
  {
   "cell_type": "code",
   "execution_count": 29,
   "metadata": {},
   "outputs": [
    {
     "name": "stdout",
     "output_type": "stream",
     "text": [
      "\n",
      "\n",
      "Solution for best_sharpe_ratio:\n",
      "{\n",
      "  \"CEMI\": 1.4666547618383192e-08,\n",
      "  \"MRIN\": 3.127573277033133e-09,\n",
      "  \"NIO\": 1.0719706692163114e-08,\n",
      "  \"NFLX\": 3.244958336570847e-08,\n",
      "  \"CMG\": 0.9999999421920268\n",
      "}\n",
      "Expected annual return:  89.76906599977919 %\n",
      "Expected annual return σ (volatility):  0.26675145334819983\n",
      "Expected sharpe ratio:  2.401627795372855\n",
      "\n",
      "\n",
      "Solution for best_return:\n",
      "{\n",
      "  \"CEMI\": 1.4666547618383192e-08,\n",
      "  \"MRIN\": 3.127573277033133e-09,\n",
      "  \"NIO\": 1.0719706692163114e-08,\n",
      "  \"NFLX\": 3.244958336570847e-08,\n",
      "  \"CMG\": 0.9999999421920268\n",
      "}\n",
      "Expected annual return:  89.76906599977919 %\n",
      "Expected annual return σ (volatility):  0.26675145334819983\n",
      "Expected sharpe ratio:  2.401627795372855\n",
      "\n",
      "\n",
      "Solution for best_volatility:\n",
      "{\n",
      "  \"CEMI\": 0.1144937892816834,\n",
      "  \"MRIN\": 0.023499380324541443,\n",
      "  \"NIO\": 0.021386617238172742,\n",
      "  \"NFLX\": 0.26476445633155393,\n",
      "  \"CMG\": 0.5758557568240489\n",
      "}\n",
      "Expected annual return:  42.08459081519342 %\n",
      "Expected annual return σ (volatility):  0.21802447343936757\n",
      "Expected sharpe ratio:  1.6110686964335517\n"
     ]
    }
   ],
   "source": [
    "best_names = [\"best_sharpe_ratio\", \"best_return\", \"best_volatility\"]\n",
    "for i, best_index in enumerate([best_sharperatio_idx, best_returns_idx, best_volatility_idx]):\n",
    "    best_weights = weights_allocations[best_index, :]\n",
    "    best_solution = dict(zip(symbols_names, best_weights))\n",
    "    best_solution_dump = json.dumps(best_solution, indent=2)\n",
    "    print(f\"\\n\\nSolution for {best_names[i]}:\")\n",
    "    print(best_solution_dump)\n",
    "    print(\"Expected annual return: \", frontier_returns[best_index] * PERCENTAGE_MULTPLIER, \"%\")\n",
    "    print(\"Expected annual return σ (volatility): \", frontier_volatilities[best_index])\n",
    "    print(\"Expected sharpe ratio: \", frontier_sharpe_ratios[best_index])\n",
    "\n",
    "    with open(f\"output_{best_names[i]}_solution.csv\", \"w\") as csvfile:\n",
    "        w = csv.DictWriter(csvfile, best_solution.keys())\n",
    "        w.writeheader()\n",
    "        w.writerow(best_solution)"
   ]
  },
  {
   "cell_type": "code",
   "execution_count": null,
   "metadata": {},
   "outputs": [],
   "source": []
  },
  {
   "cell_type": "code",
   "execution_count": null,
   "metadata": {},
   "outputs": [],
   "source": []
  }
 ],
 "metadata": {
  "kernelspec": {
   "display_name": "Python 3",
   "language": "python",
   "name": "python3"
  },
  "language_info": {
   "codemirror_mode": {
    "name": "ipython",
    "version": 3
   },
   "file_extension": ".py",
   "mimetype": "text/x-python",
   "name": "python",
   "nbconvert_exporter": "python",
   "pygments_lexer": "ipython3",
   "version": "3.8.10"
  }
 },
 "nbformat": 4,
 "nbformat_minor": 4
}
